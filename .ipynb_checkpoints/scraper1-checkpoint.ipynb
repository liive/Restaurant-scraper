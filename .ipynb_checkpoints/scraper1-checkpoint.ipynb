{
 "cells": [
  {
   "cell_type": "code",
   "execution_count": 11,
   "metadata": {},
   "outputs": [],
   "source": [
    "import requests\n",
    "from bs4 import BeautifulSoup"
   ]
  },
  {
   "cell_type": "code",
   "execution_count": 12,
   "metadata": {},
   "outputs": [],
   "source": [
    "headers = {\n",
    "    \"Accept\":\"text/htm;,application/xhtml+xml,application/xml;q=0.9,image/avif,iamge/webp/image/apng\",\n",
    "    \"Accept-Encoding\":\"gzip,deflate, br\",\n",
    "    \"Accept-Language\": \"en-US,en;q=0.9\",\n",
    "    \"Connection\":\"keep-alive\",\n",
    "    \"User-Agent\":\"Mozilla/5.0 (Windows NT 10.0; Win64; x64; rv:109.0) Gecko/20100101 Firefox/109.0\",\n",
    "    \"Cache-Control\":\"max-age=0,no-cache,no-store\",\n",
    "    \"Upgrade-Insecure-Requests\":\"1\"\n",
    "}"
   ]
  },
  {
   "cell_type": "code",
   "execution_count": 13,
   "metadata": {},
   "outputs": [],
   "source": [
    "# number_of_pages=3000/30\n",
    "# for i in range(1, 11, 1):\n",
    "#     page = requests.get(f\"https://www.yellowpages.ca/search/si/{i}/restaurants/Toronto+ON\")\n",
    "#     print(i, page.status_code)"
   ]
  },
  {
   "cell_type": "code",
   "execution_count": 14,
   "metadata": {},
   "outputs": [
    {
     "name": "stdout",
     "output_type": "stream",
     "text": [
      "200\n"
     ]
    }
   ],
   "source": [
    "url = \"https://www.yellowpages.ca/search/si/1/restaurants/Toronto+ON\"\n",
    "page = requests.get(url,headers=headers)\n",
    "print(page.status_code)"
   ]
  },
  {
   "cell_type": "code",
   "execution_count": 17,
   "metadata": {},
   "outputs": [
    {
     "ename": "AttributeError",
     "evalue": "'Response' object has no attribute 'find'",
     "output_type": "error",
     "traceback": [
      "\u001b[1;31m---------------------------------------------------------------------------\u001b[0m",
      "\u001b[1;31mAttributeError\u001b[0m                            Traceback (most recent call last)",
      "\u001b[1;32m<ipython-input-17-cfd46040e7f7>\u001b[0m in \u001b[0;36m<module>\u001b[1;34m\u001b[0m\n\u001b[0;32m      1\u001b[0m \u001b[0msoup\u001b[0m \u001b[1;33m=\u001b[0m \u001b[0mrequests\u001b[0m\u001b[1;33m.\u001b[0m\u001b[0mget\u001b[0m\u001b[1;33m(\u001b[0m\u001b[1;34m\"https://www.yellowpages.ca/search/si/1/restaurants/Toronto+ON\"\u001b[0m\u001b[1;33m,\u001b[0m\u001b[0mheaders\u001b[0m\u001b[1;33m=\u001b[0m\u001b[0mheaders\u001b[0m\u001b[1;33m)\u001b[0m\u001b[1;33m\u001b[0m\u001b[1;33m\u001b[0m\u001b[0m\n\u001b[1;32m----> 2\u001b[1;33m \u001b[0mnumber_of_pages\u001b[0m\u001b[1;33m=\u001b[0m\u001b[0msoup\u001b[0m\u001b[1;33m.\u001b[0m\u001b[0mfind\u001b[0m\u001b[1;33m(\u001b[0m\u001b[1;34m'span'\u001b[0m\u001b[1;33m,\u001b[0m \u001b[0mattrs\u001b[0m\u001b[1;33m=\u001b[0m\u001b[1;33m{\u001b[0m\u001b[1;34m'class'\u001b[0m\u001b[1;33m,\u001b[0m\u001b[1;34m'pageCount'\u001b[0m\u001b[1;33m}\u001b[0m\u001b[1;33m)\u001b[0m\u001b[1;33m\u001b[0m\u001b[1;33m\u001b[0m\u001b[0m\n\u001b[0m\u001b[0;32m      3\u001b[0m \u001b[0mnumber_of_pages\u001b[0m \u001b[1;33m=\u001b[0m \u001b[0mnumber_of_pages\u001b[0m\u001b[1;33m.\u001b[0m\u001b[0mtext\u001b[0m\u001b[1;33m\u001b[0m\u001b[1;33m\u001b[0m\u001b[0m\n\u001b[0;32m      4\u001b[0m \u001b[1;32mfor\u001b[0m \u001b[0mi\u001b[0m \u001b[1;32min\u001b[0m \u001b[0mrange\u001b[0m\u001b[1;33m(\u001b[0m\u001b[1;36m1\u001b[0m\u001b[1;33m,\u001b[0m \u001b[0mint\u001b[0m\u001b[1;33m(\u001b[0m\u001b[0mnumber_of_pages\u001b[0m\u001b[1;33m)\u001b[0m\u001b[1;33m,\u001b[0m \u001b[1;36m1\u001b[0m\u001b[1;33m)\u001b[0m\u001b[1;33m:\u001b[0m\u001b[1;33m\u001b[0m\u001b[1;33m\u001b[0m\u001b[0m\n\u001b[0;32m      5\u001b[0m     \u001b[1;32mif\u001b[0m \u001b[0mi\u001b[0m \u001b[1;33m<\u001b[0m\u001b[1;36m5\u001b[0m\u001b[1;33m:\u001b[0m\u001b[1;33m\u001b[0m\u001b[1;33m\u001b[0m\u001b[0m\n",
      "\u001b[1;31mAttributeError\u001b[0m: 'Response' object has no attribute 'find'"
     ]
    }
   ],
   "source": [
    "soup = requests.get(\"https://www.yellowpages.ca/search/si/1/restaurants/Toronto+ON\",headers=headers)\n",
    "number_of_pages=soup.find('span', attrs={'class','pageCount'})\n",
    "number_of_pages = number_of_pages.text\n",
    "for i in range(1, int(number_of_pages), 1):\n",
    "    if i <5:\n",
    "        print(i)\n",
    "    else:\n",
    "        break\n",
    "    page = requests.get(f\"https://www.yellowpages.ca/search/si/{i}/restaurants/Toronto+ON\",headers=headers)\n",
    "    print(page)\n",
    "    "
   ]
  },
  {
   "cell_type": "code",
   "execution_count": 5,
   "metadata": {},
   "outputs": [
    {
     "name": "stdout",
     "output_type": "stream",
     "text": [
      "<title>The Best restaurants in Toronto | YellowPages.ca™</title>\n"
     ]
    }
   ],
   "source": [
    "soup = BeautifulSoup(page.content, 'html5lib')\n",
    "# print(soup.prettify())\n",
    "print(soup.find('title'))"
   ]
  },
  {
   "cell_type": "code",
   "execution_count": 56,
   "metadata": {},
   "outputs": [
    {
     "name": "stdout",
     "output_type": "stream",
     "text": [
      "Bardi's Steak House\n",
      "Queen's Pasta Cafe\n",
      "Astoria Shish Kebob House Inc\n",
      "Kalyvia Restaurant\n",
      "Dim Sum King\n",
      "Bardi's Steak House\n",
      "Kingyo Izakaya\n",
      "Taverna Mercatto\n",
      "Woods Restaurant\n",
      "Halibut House\n",
      "By The Way\n",
      "Via Norte Restaurant\n",
      "Rose And Sons\n",
      "Carens Rosedale\n",
      "Soos\n",
      "Gusto 101\n",
      "Mr. Greek\n",
      "BnB\n",
      "Jabistro\n",
      "Barrio Coreano\n",
      "Arisu\n",
      "Budapest Restaurant\n",
      "The Kennedy Public House\n",
      "The Burger Cellar\n",
      "Athens Restaurant\n",
      "Sip Wine Bar\n",
      "Butchers Of Distinction\n",
      "Brownes Bistro\n",
      "Sake Bar Kushi\n",
      "The Peasant Table\n",
      "Farmhouse Tavern\n",
      "Junction Local\n",
      "Oretta\n",
      "Cano Restaurant\n",
      "Böehmer\n"
     ]
    }
   ],
   "source": [
    "title_list =soup.find_all('a', attrs={'class','listing__name--link listing__link jsListingName'})\n",
    "# print(table[0].text)\n",
    "for title in title_list:\n",
    "    title =title.text\n",
    "    print(title)"
   ]
  },
  {
   "cell_type": "code",
   "execution_count": null,
   "metadata": {},
   "outputs": [],
   "source": []
  }
 ],
 "metadata": {
  "kernelspec": {
   "display_name": "Python 3",
   "language": "python",
   "name": "python3"
  },
  "language_info": {
   "codemirror_mode": {
    "name": "ipython",
    "version": 3
   },
   "file_extension": ".py",
   "mimetype": "text/x-python",
   "name": "python",
   "nbconvert_exporter": "python",
   "pygments_lexer": "ipython3",
   "version": "3.7.1"
  }
 },
 "nbformat": 4,
 "nbformat_minor": 2
}
